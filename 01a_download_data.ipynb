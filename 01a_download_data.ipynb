{
 "cells": [
  {
   "cell_type": "markdown",
   "id": "6b747b65",
   "metadata": {},
   "source": [
    "## Sentinel Data download & transfor expetriment 2"
   ]
  },
  {
   "cell_type": "markdown",
   "id": "4412dbed",
   "metadata": {},
   "source": [
    "## Load libs"
   ]
  },
  {
   "cell_type": "code",
   "execution_count": 3,
   "id": "59a0ee88",
   "metadata": {},
   "outputs": [],
   "source": [
    "import os\n",
    "from dotenv import load_dotenv\n",
    "\n",
    "from datetime import date, timedelta\n",
    "import requests\n",
    "import pandas as pd\n",
    "import geopandas as gpd\n",
    "from shapely.geometry import shape"
   ]
  },
  {
   "cell_type": "code",
   "execution_count": 7,
   "id": "c088995c",
   "metadata": {},
   "outputs": [
    {
     "data": {
      "text/plain": [
       "True"
      ]
     },
     "execution_count": 7,
     "metadata": {},
     "output_type": "execute_result"
    }
   ],
   "source": [
    "load_dotenv()"
   ]
  },
  {
   "cell_type": "code",
   "execution_count": 8,
   "id": "2b5357dc",
   "metadata": {},
   "outputs": [
    {
     "name": "stdout",
     "output_type": "stream",
     "text": [
      "This is a testenv\n"
     ]
    }
   ],
   "source": [
    "test = os.getenv(\"test\")\n",
    "print(test)"
   ]
  },
  {
   "cell_type": "markdown",
   "id": "86bc4234",
   "metadata": {},
   "source": [
    "## Authentication"
   ]
  },
  {
   "cell_type": "code",
   "execution_count": null,
   "id": "7869edac",
   "metadata": {},
   "outputs": [],
   "source": [
    "copernicus_user = os.getenv(\"copernicus_user\") # copernicus User\n",
    "copernicus_password = os.getenv(\"copernicus_password\") # copernicus Password"
   ]
  },
  {
   "cell_type": "markdown",
   "id": "6503a7b2",
   "metadata": {},
   "source": [
    "Area of Interest "
   ]
  },
  {
   "cell_type": "code",
   "execution_count": 9,
   "id": "22915900",
   "metadata": {},
   "outputs": [],
   "source": [
    "ft = \"POLYGON ((5.922901 49.910716, 5.925991 49.911822, 5.919296 49.914256, 5.910713 49.913039, 5.904362 49.912597, 5.898869 49.915583, 5.888054 49.912707, 5.880672 49.906845, 5.876553 49.905739, 5.871746 49.908947, 5.873978 49.911712, 5.870373 49.912486, 5.866425 49.910274, 5.860245 49.916357, 5.856125 49.914919, 5.853035 49.919122, 5.850117 49.922439, 5.84119 49.92255, 5.85458 49.911048, 5.865223 49.906181, 5.865395 49.904079, 5.85973 49.907177, 5.850975 49.91138, 5.845997 49.9095, 5.850117 49.906292, 5.843422 49.901535, 5.838444 49.895007, 5.8381 49.890913, 5.829517 49.88538, 5.834839 49.875198, 5.825226 49.868666, 5.827457 49.864681, 5.844109 49.871988, 5.850117 49.877743, 5.839645 49.881507, 5.841362 49.884052, 5.850975 49.880621, 5.859043 49.886819, 5.849773 49.89213, 5.857327 49.896999, 5.863678 49.894565, 5.875351 49.899543, 5.888226 49.901756, 5.891144 49.894786, 5.89492 49.896114, 5.89389 49.907619, 5.905392 49.904522, 5.897495 49.897663, 5.898525 49.895229, 5.901958 49.894786, 5.903503 49.898437, 5.91243 49.902199, 5.920155 49.899654, 5.924961 49.902309, 5.922901 49.910716))\""
   ]
  },
  {
   "cell_type": "markdown",
   "id": "e8e40be3",
   "metadata": {},
   "source": [
    "Which Satellite"
   ]
  },
  {
   "cell_type": "code",
   "execution_count": 10,
   "id": "31521343",
   "metadata": {},
   "outputs": [],
   "source": [
    "data_collection = \"SENTINEL-2\""
   ]
  },
  {
   "cell_type": "markdown",
   "id": "06d8ee3a",
   "metadata": {},
   "source": [
    "dates"
   ]
  },
  {
   "cell_type": "code",
   "execution_count": 17,
   "id": "c3c874b7",
   "metadata": {},
   "outputs": [],
   "source": [
    "today = date.today()\n",
    "today_string = today.strftime(\"%Y-%m-%d\")\n",
    "yesterday = today - timedelta(days = 30)\n",
    "yesterday_string = yesterday.strftime(\"%Y-%m-%d\")\n",
    "\n",
    "# start_date = \"2025-06-22\"\n",
    "# end_date = \"2025-06-22\"\n",
    "\n",
    "# today_string = end_date\n",
    "# yesterday_string = start_date"
   ]
  },
  {
   "cell_type": "markdown",
   "id": "000e0db6",
   "metadata": {},
   "source": [
    "## Generate access token"
   ]
  },
  {
   "cell_type": "code",
   "execution_count": 13,
   "id": "f0375f8b",
   "metadata": {},
   "outputs": [],
   "source": [
    "def get_keycloak(username: str, password: str) -> str:\n",
    "    data = {\n",
    "        \"client_id\": \"cdse-public\",\n",
    "        \"username\": username,\n",
    "        \"password\": password,\n",
    "        \"grant_type\": \"password\",\n",
    "    }\n",
    "    try:\n",
    "        r = requests.post(\n",
    "            \"https://identity.dataspace.copernicus.eu/auth/realms/CDSE/protocol/openid-connect/token\",\n",
    "            data=data,\n",
    "        )\n",
    "        r.raise_for_status()\n",
    "    except Exception as e:\n",
    "        raise Exception(\n",
    "            f\"Keycloak token creation failed. Reponse from the server was: {r.json()}\"\n",
    "        )\n",
    "    return r.json()[\"access_token\"]"
   ]
  },
  {
   "cell_type": "markdown",
   "id": "af765705",
   "metadata": {},
   "source": [
    "## Access API to get data"
   ]
  },
  {
   "cell_type": "code",
   "execution_count": 18,
   "id": "344fa6f5",
   "metadata": {},
   "outputs": [
    {
     "name": "stdout",
     "output_type": "stream",
     "text": [
      " total L2A tiles found 32\n",
      "problem with server\n",
      "problem with server\n",
      "problem with server\n",
      "problem with server\n",
      "problem with server\n",
      "problem with server\n",
      "problem with server\n",
      "problem with server\n",
      "problem with server\n",
      "problem with server\n",
      "problem with server\n",
      "problem with server\n",
      "problem with server\n",
      "problem with server\n",
      "problem with server\n",
      "problem with server\n",
      "problem with server\n",
      "problem with server\n",
      "problem with server\n",
      "problem with server\n",
      "problem with server\n",
      "problem with server\n",
      "problem with server\n",
      "problem with server\n",
      "problem with server\n",
      "problem with server\n",
      "problem with server\n",
      "problem with server\n",
      "problem with server\n",
      "problem with server\n",
      "problem with server\n",
      "problem with server\n"
     ]
    }
   ],
   "source": [
    "json_ = requests.get(\n",
    "    f\"https://catalogue.dataspace.copernicus.eu/odata/v1/Products?$filter=Collection/Name eq '{data_collection}' and OData.CSC.Intersects(area=geography'SRID=4326;{ft}') and ContentDate/Start gt {yesterday_string}T00:00:00.000Z and ContentDate/Start lt {today_string}T00:00:00.000Z&$count=True&$top=1000\"\n",
    ").json()  \n",
    "p = pd.DataFrame.from_dict(json_[\"value\"]) # Fetch available dataset\n",
    "if p.shape[0] > 0 : # If we get data back\n",
    "    p[\"geometry\"] = p[\"GeoFootprint\"].apply(shape)\n",
    "\n",
    "    # Convert pandas dataframe to Geopandas dataframe by setting up geometry\n",
    "    productDF = gpd.GeoDataFrame(p).set_geometry(\"geometry\") \n",
    "\n",
    "    # Remove L1C dataset if not needed\n",
    "    # productDF = productDF[~productDF[\"Name\"].str.contains(\"L1C\")] \n",
    "    print(f\" total L2A tiles found {len(productDF)}\")\n",
    "    productDF[\"identifier\"] = productDF[\"Name\"].str.split(\".\").str[0]\n",
    "    allfeat = len(productDF) \n",
    "    \n",
    "    if allfeat == 0: # If L2A tiles are not available in current query\n",
    "        print(f\"No tiles found for {today_string}\")\n",
    "    else: # If L2A tiles are available in current query\n",
    "        # download all tiles from server\n",
    "        for index,feat in enumerate(productDF.iterfeatures()):\n",
    "            try:\n",
    "                # Create requests session \n",
    "                session = requests.Session()\n",
    "\n",
    "                # Get access token based on username and password\n",
    "                keycloak_token = get_keycloak(copernicus_user,copernicus_password)\n",
    "                \n",
    "                session.headers.update({\"Authorization\": f\"Bearer {keycloak_token}\"})\n",
    "                url = f\"https://catalogue.dataspace.copernicus.eu/odata/v1/Products({feat['properties']['Id']})/$value\"\n",
    "                response = session.get(url, allow_redirects=False)\n",
    "\n",
    "                while response.status_code in (301, 302, 303, 307):\n",
    "                    url = response.headers[\"Location\"]\n",
    "                    response = session.get(url, allow_redirects=False)\n",
    "                \n",
    "                print(feat[\"properties\"][\"Id\"])\n",
    "                \n",
    "                file = session.get(url, verify=False, allow_redirects=True)\n",
    "\n",
    "                with open(\n",
    "                    f\"/data/{feat['properties']['identifier']}.zip\", #location to save zip from copernicus \n",
    "                    \"wb\",\n",
    "                ) as p:\n",
    "                    print(feat[\"properties\"][\"Name\"])\n",
    "                    p.write(file.content)\n",
    "            except:\n",
    "                print(\"problem with server\")\n",
    "else : # If no tiles found for given date range and AOI\n",
    "    print('no data found')"
   ]
  },
  {
   "cell_type": "markdown",
   "id": "26b6de7b",
   "metadata": {},
   "source": [
    "## "
   ]
  },
  {
   "cell_type": "code",
   "execution_count": null,
   "id": "faa82038",
   "metadata": {},
   "outputs": [],
   "source": []
  }
 ],
 "metadata": {
  "kernelspec": {
   "display_name": "Python 3",
   "language": "python",
   "name": "python3"
  },
  "language_info": {
   "codemirror_mode": {
    "name": "ipython",
    "version": 3
   },
   "file_extension": ".py",
   "mimetype": "text/x-python",
   "name": "python",
   "nbconvert_exporter": "python",
   "pygments_lexer": "ipython3",
   "version": "3.13.2"
  }
 },
 "nbformat": 4,
 "nbformat_minor": 5
}
